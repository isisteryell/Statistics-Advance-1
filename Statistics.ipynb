{
  "cells": [
    {
      "cell_type": "markdown",
      "metadata": {
        "id": "1iZVvIlshw-v"
      },
      "source": [
        "### 1. What is a random variable in probability theory?\n",
        "\n",
        "A random variable is a function that assigns a numerical value to each outcome in a random experiment’s sample space. It provides a bridge between outcomes (which may be qualitative) and quantitative analysis, enabling computation of probabilities, expectations, variances, and other statistical measures."
      ]
    },
    {
      "cell_type": "markdown",
      "metadata": {
        "id": "NhckmVbthw-y"
      },
      "source": [
        "### 2. What are the types of random variables?\n",
        "\n",
        "Random variables are classified as discrete or continuous. Discrete variables take on countable, often integer, values (e.g., number of heads in coin tosses). Continuous variables can assume any real value within an interval (e.g., measurement errors, heights), described by density functions."
      ]
    },
    {
      "cell_type": "markdown",
      "metadata": {
        "id": "RX1g6nu6hw-z"
      },
      "source": [
        "### 3. What is the difference between discrete and continuous distributions?\n",
        "\n",
        "Discrete distributions assign probability masses to specific, countable outcomes; probabilities are summed over points. Continuous distributions use density functions, where probabilities over intervals equal the integral under the curve. Discrete examples include Poisson; continuous include normal and exponential."
      ]
    },
    {
      "cell_type": "markdown",
      "metadata": {
        "id": "Z_ufFK3Xhw-z"
      },
      "source": [
        "### 4. What are probability distribution functions (PDF)?\n",
        "\n",
        "A probability distribution function defines how probabilities are distributed over the possible values of a continuous random variable. The PDF’s area under its curve between two points gives the probability that the variable falls within that range."
      ]
    },
    {
      "cell_type": "markdown",
      "metadata": {
        "id": "fpHy7Luxhw-z"
      },
      "source": [
        "### 5. How do cumulative distribution functions (CDF) differ from probability distribution functions (PDF)?\n",
        "\n",
        "A CDF gives the probability that a random variable is ≤ a certain value, accumulating probabilities up to that point. A PDF gives relative likelihood at each exact value; its integral yields the CDF."
      ]
    },
    {
      "cell_type": "markdown",
      "metadata": {
        "id": "9VGzj3Nohw-z"
      },
      "source": [
        "### 6. What is a discrete uniform distribution?\n",
        "\n",
        "A discrete uniform distribution assigns equal probability to each of a finite set of outcomes. For example, rolling a fair six-sided die yields a probability of 1/6 for each face, illustrating complete uniformity across outcomes."
      ]
    },
    {
      "cell_type": "markdown",
      "metadata": {
        "id": "3c4BMsjrhw-z"
      },
      "source": [
        "### 7. What are the key properties of a Bernoulli distribution?\n",
        "\n",
        "A Bernoulli distribution models a single binary trial with two outcomes: success (1) with probability p, and failure (0) with probability 1−p. Its mean is p, variance p(1−p), and it serves as a building block for binomial models."
      ]
    },
    {
      "cell_type": "markdown",
      "metadata": {
        "id": "U3B3f4Cphw-0"
      },
      "source": [
        "### 8. What is the binomial distribution, and how is it used in probability?\n",
        "\n",
        "The binomial distribution gives the probability of observing k successes in n independent Bernoulli trials with success probability p. It’s widely used for quality control, survey sampling, and any scenario counting successes over fixed trials."
      ]
    },
    {
      "cell_type": "markdown",
      "metadata": {
        "id": "vueFtNTJhw-0"
      },
      "source": [
        "### 9. What is the Poisson distribution and where is it applied?\n",
        "\n",
        "The Poisson distribution models the count of events occurring independently over a fixed interval at a constant average rate λ. It applies to rare events like call arrivals, radioactive decay counts, and network packet arrivals."
      ]
    },
    {
      "cell_type": "markdown",
      "metadata": {
        "id": "pao2Rjnahw-0"
      },
      "source": [
        "### 10. What is a continuous uniform distribution?\n",
        "\n",
        "A continuous uniform distribution assigns equal density over every point in an interval [a, b]. Probabilities for subintervals are proportional to their length. It’s used when any outcome within the range is equally likely."
      ]
    },
    {
      "cell_type": "markdown",
      "metadata": {
        "id": "S8gVn7-Ghw-0"
      },
      "source": [
        "### 11. What are the characteristics of a normal distribution?\n",
        "\n",
        "A normal distribution is symmetric and bell-shaped, fully specified by its mean μ and standard deviation σ. It follows the empirical 68-95-99.7 rule and arises naturally through the Central Limit Theorem in many contexts."
      ]
    },
    {
      "cell_type": "markdown",
      "metadata": {
        "id": "oPI_VaCehw-0"
      },
      "source": [
        "### 12. What is the standard normal distribution, and why is it important?\n",
        "\n",
        "The standard normal distribution is a special normal distribution with mean 0 and standard deviation 1. It enables standardization of arbitrary normal variables, simplifies probability calculations via Z-scores, and underpins many inferential techniques."
      ]
    },
    {
      "cell_type": "markdown",
      "metadata": {
        "id": "lgRatkeMhw-0"
      },
      "source": [
        "### 13. What is the Central Limit Theorem (CLT), and why is it critical in statistics?\n",
        "\n",
        "The CLT states that the distribution of sample means approaches normality as sample size grows, regardless of the original population’s shape. This underlies confidence intervals and hypothesis tests, making normal-based methods broadly applicable."
      ]
    },
    {
      "cell_type": "markdown",
      "metadata": {
        "id": "9FFIIA_3hw-0"
      },
      "source": [
        "### 14. How does the Central Limit Theorem relate to the normal distribution?\n",
        "\n",
        "The CLT explains why averages of large, independent samples approximate a normal distribution even if individual data aren’t normal. This justifies using normal models for inference on means and sums."
      ]
    },
    {
      "cell_type": "markdown",
      "metadata": {
        "id": "txpc3lz8hw-1"
      },
      "source": [
        "### 15. What is the application of Z statistics in hypothesis testing?\n",
        "\n",
        "Z statistics measure how many standard deviations an observed statistic lies from its null-hypothesized mean. When population variance is known, Z-tests evaluate evidence against H₀, yielding p-values and decision rules."
      ]
    },
    {
      "cell_type": "markdown",
      "metadata": {
        "id": "xTW0ZIufhw-1"
      },
      "source": [
        "### 16. How do you calculate a Z-score, and what does it represent?\n",
        "\n",
        "A Z-score is computed as (X−μ)/σ, where X is the observation, μ the population mean, and σ the population standard deviation. It indicates how many standard deviations X is from μ, enabling comparison across scales."
      ]
    },
    {
      "cell_type": "markdown",
      "metadata": {
        "id": "AJeDBoKFhw-1"
      },
      "source": [
        "### 17. What are point estimates and interval estimates in statistics?\n",
        "\n",
        "A point estimate is a single best guess of a population parameter (e.g., sample mean). An interval estimate, such as a confidence interval, provides a range of plausible values for the parameter, reflecting estimation uncertainty."
      ]
    },
    {
      "cell_type": "markdown",
      "metadata": {
        "id": "40arGCzUhw-1"
      },
      "source": [
        "### 18. What is the significance of confidence intervals in statistical analysis?\n",
        "\n",
        "Confidence intervals quantify the precision of an estimate by providing a range likely to contain the true parameter at a specified confidence level (e.g., 95%). They communicate both estimate and associated uncertainty."
      ]
    },
    {
      "cell_type": "markdown",
      "metadata": {
        "id": "RJoDrIX6hw-1"
      },
      "source": [
        "### 19. What is the relationship between a Z-score and a confidence interval?\n",
        "\n",
        "Confidence intervals for means under normality use critical Z-values to set bounds: CI = mean ± Z_{α/2}·(σ/√n). The chosen Z-score reflects desired coverage probability (e.g., 1.96 for 95% CI)."
      ]
    },
    {
      "cell_type": "markdown",
      "metadata": {
        "id": "uwgICK3Zhw-1"
      },
      "source": [
        "### 20. How are Z-scores used to compare different distributions?\n",
        "\n",
        "Z-scores standardize values from diverse distributions onto a common scale by subtracting the mean and dividing by the standard deviation. This facilitates comparison of extremity across different contexts or units."
      ]
    },
    {
      "cell_type": "markdown",
      "metadata": {
        "id": "3985FXZLhw-1"
      },
      "source": [
        "### 21. What are the assumptions for applying the Central Limit Theorem?\n",
        "\n",
        "Key CLT assumptions: samples are independently drawn, each observation has identical distribution, and sample size is sufficiently large (often n≥30). Mild departures typically still yield approximate normality."
      ]
    },
    {
      "cell_type": "markdown",
      "metadata": {
        "id": "f6jEDkMYhw-1"
      },
      "source": [
        "### 22. What is the concept of expected value in a probability distribution?\n",
        "\n",
        "The expected value is the long-run average outcome of a random variable, calculated as the sum (or integral) of each possible value weighted by its probability. It summarizes the distribution’s center."
      ]
    },
    {
      "cell_type": "markdown",
      "metadata": {
        "id": "DTfYxR_1hw-1"
      },
      "source": [
        "### 23. How does a probability distribution relate to the expected outcome of a random variable?\n",
        "\n",
        "A probability distribution specifies all possible values and their probabilities, which are used to compute the expected value by summing (discrete) or integrating (continuous) value×probability over the domain."
      ]
    }
  ],
  "metadata": {
    "kernelspec": {
      "display_name": "Python 3",
      "language": "python",
      "name": "python3"
    },
    "language_info": {
      "name": "python",
      "version": ""
    },
    "colab": {
      "provenance": []
    }
  },
  "nbformat": 4,
  "nbformat_minor": 0
}